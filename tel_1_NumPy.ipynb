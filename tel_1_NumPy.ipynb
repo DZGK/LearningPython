{
 "cells": [
  {
   "cell_type": "markdown",
   "metadata": {},
   "source": [
    "# NumPy について\n",
    "NumPy は配列の作成、処理をするためのライブラリである。\n",
    "NumPy の配列は、Python標準のリストと比較すると、格納できるデータ型が 1種類であることや固定長あるという制限がありますが、計算速度が速いです。\n",
    "また、計算のために便利な機能をたくさん持っている。"
   ]
  },
  {
   "cell_type": "code",
   "execution_count": 5,
   "metadata": {},
   "outputs": [
    {
     "name": "stdout",
     "output_type": "stream",
     "text": [
      "<class 'numpy.ndarray'>\n",
      "[1 2 3 4 5]\n",
      "int32\n",
      "<class 'numpy.ndarray'>\n",
      "['いろはにほへと' 'ちりぬるを' 'わかよたれぞ' 'つねならむ']\n",
      "<U7\n"
     ]
    }
   ],
   "source": [
    "import numpy as np\n",
    "\n",
    "# 数値型の配列\n",
    "int_arr = np.array([1, 2, 3, 4, 5])\n",
    "print(type(int_arr))\n",
    "print(int_arr)\n",
    "print(int_arr.dtype)\n",
    "\n",
    "# 文字列型の配列\n",
    "str_arr = np.array([\"いろはにほへと\", \"ちりぬるを\", \"わかよたれそ\", \"つねならむ\"])\n",
    "print(type(str_arr))\n",
    "print(str_arr)\n",
    "print(str_arr.dtype)\n"
   ]
  },
  {
   "cell_type": "code",
   "execution_count": 134,
   "metadata": {},
   "outputs": [
    {
     "name": "stdout",
     "output_type": "stream",
     "text": [
      "<class 'numpy.ndarray'>\n",
      "[1 2 3 4 5]\n",
      "int64\n",
      "<class 'numpy.ndarray'>\n",
      "[1 2 3 4 5]\n",
      "int64\n",
      "shape(配列の構造の表示): (3, 3)\n",
      "[[ 1  2  3]\n",
      " [ 2  4  6]\n",
      " [10 20 30]]\n",
      "shape(配列の構造の表示): (2, 3)\n",
      "[[0 0 0]\n",
      " [0 0 0]]\n",
      "[1 2 3 4 5 6]\n",
      "[[1 2 3]\n",
      " [4 5 6]]\n",
      "[[ 1  2  3  4]\n",
      " [ 5  6  7  8]\n",
      " [ 9 10 11 12]]\n",
      "[ 1  2  3  4  5  6  7  8  9 10 11 12]\n",
      "[ 1  2  3  4  5  6  7  8  9 10 11 12]\n"
     ]
    }
   ],
   "source": [
    "import numpy as np\n",
    "\n",
    "# データ型を指定した配列の生成\n",
    "int_array = np.array([1, 2, 3, 4, 5], dtype=np.int8)\n",
    "print(type(int_array))\n",
    "print(int_arr)\n",
    "print(int_arr.dtype)\n",
    "\n",
    "# 配列のデータ型の変更\n",
    "int_arr = int_arr.astype(np.int64)\n",
    "print(type(int_arr))\n",
    "print(int_arr)\n",
    "print(int_arr.dtype)\n",
    "\n",
    "# 多次元配列の生成\n",
    "a1 = np.array([\n",
    "    [1, 2, 3], [2, 4, 6], [10, 20, 30]\n",
    "])\n",
    "print(\"shape(配列の構造の表示): \" + str(a1.shape))\n",
    "print(a1)\n",
    "\n",
    "# 多次元配列の生成\n",
    "a2 = np.zeros((2, 3), dtype=np.int8)\n",
    "print(\"shape(配列の構造の表示): \" + str(a2.shape))\n",
    "print(a2)\n",
    "\n",
    "# 1次元配列を多次元配列へ変換する\n",
    "a3 = np.array([1, 2, 3, 4, 5, 6])\n",
    "print(a3)\n",
    "\n",
    "# 2x3の配列に変換する\n",
    "a3 = a3.reshape(2,3)\n",
    "print(a3)\n",
    "\n",
    "#多次元配列を1次元配列へ変換する\n",
    "# 多次元配列の生成\n",
    "sourcedata = np.arange(1, 13).reshape(3, 4)\n",
    "print(sourcedata)\n",
    "# 3x4の配列を1次元の配列へ変換する。\n",
    "# flatten() は元の配列が残る。ravelは元の配列が消滅する可能性がある。\n",
    "array1 = sourcedata.flatten()\n",
    "print(array1)\n",
    "\n",
    "array2 = sourcedata.ravel()\n",
    "print(array2)\n",
    "\n",
    "\n"
   ]
  },
  {
   "cell_type": "code",
   "execution_count": 111,
   "metadata": {},
   "outputs": [
    {
     "name": "stdout",
     "output_type": "stream",
     "text": [
      "[0 1 2 3 4 5 6 7 8 9]\n",
      "[ 0  2  4  6  8 10]\n",
      "2分割: [ 1. 10.]\n",
      "3分割 [ 1.   5.5 10. ]\n",
      "3分割 [ 0.  5. 10.]\n",
      "[0.85136213 0.16356767 0.50535207 0.3446498  0.71717113 0.96320032\n",
      " 0.68299937 0.78051726 0.70913816 0.62273229]\n",
      "[0. 0. 0. 0. 0. 0. 0. 0. 0. 0.]\n",
      "[1. 1. 1. 1. 1. 1. 1. 1. 1. 1.]\n",
      "[0.14328479 0.23368017 0.75684295 0.21640149 0.33637749 0.97923799\n",
      " 0.80045206 0.38659167 0.18742256 0.71784925]\n",
      "1-5 のランダムな数値: [1 2 4 2 2 5 5 2 1 4]\n",
      "['色は匂えど' '散りぬるを' '我が世誰ぞ' '常ならん']\n",
      "listを生成: <class 'list'>\n",
      "listをndarrayに変換: <class 'numpy.ndarray'>\n",
      "ndarrayをlistに変換: <class 'list'>\n"
     ]
    }
   ],
   "source": [
    "\"\"\" numpy のメソッド\n",
    "\"\"\"\n",
    "import numpy as np\n",
    "\n",
    "# arange\n",
    "t1 = np.arange(10)\n",
    "print(t1)\n",
    "\n",
    "t2 = np.arange(0, 11, 2)\n",
    "print(t2)\n",
    "\n",
    "# linspace(start, stop, num):  start以上、stop以下の価を num分割する。\n",
    "# 使い方が難しい\n",
    "# 1, 5 とはならない。でも、これは理解できる。\n",
    "t3 = np.linspace(1, 10, 2)\n",
    "print(\"2分割: \" + str(t3))\n",
    "\n",
    "# 1, 5, 10 とはならない。確かに両端を 1 と 10 にすると、中間は 5.5。\n",
    "t3 = np.linspace(1, 10, 3)\n",
    "print(f\"3分割 {t3}\")\n",
    "\n",
    "\n",
    "# 0 - 10 だと、中間が 5 になる。\n",
    "t4 = np.linspace(0, 10, 3)\n",
    "print(f\"3分割 {str(t4)}\")\n",
    "\n",
    "\n",
    "# np.empty(n): n個の要素を持つ配列を生成する。\n",
    "# 仮の配列を作成するのに使う。値が初期化されないことに気を付ける。\n",
    "t5 = np.empty(10)\n",
    "print(t5)\n",
    "\n",
    "# np.zeros(n): n個の要素を持つ配列を生成する。0で初期化する。\n",
    "t6 = np.zeros(10)\n",
    "print(t6)\n",
    "\n",
    "# np.ones(n): n個の要素を持つ配列を生成する。1で初期化する。\n",
    "t7 = np.ones(10)\n",
    "print(t7)\n",
    "\n",
    "# np.random.rand(n): n個の要素を持つ配列を生成する。0以上1未満のランダムな数値で初期化する。\n",
    "t8 = np.random.rand(10)\n",
    "print(t8)\n",
    "\n",
    "# ランダムな数値を整数にする場合\n",
    "t8 = t8 * 5 + 1\n",
    "t8 = t8.astype(np.int8)\n",
    "print(f\"1-5 のランダムな数値: {t8}\")\n",
    "\n",
    "\n",
    "# np.concatenate([array1, array2]): 既存の配列を連結します。\n",
    "iroha1 = [\"色は匂えど\", \"散りぬるを\"]\n",
    "iroha2 = [\"我が世誰ぞ\", \"常ならん\"]\n",
    "\n",
    "iroha3 = np.concatenate([iroha1, iroha2])\n",
    "print(iroha3)\n",
    "\n",
    "\n",
    "# リストと ndarray の変換\n",
    "list1 = [1, 2, 3]\n",
    "print(f\"listを生成: {type(list1)}\")\n",
    "\n",
    "array1 = np.array(list1)\n",
    "print(f\"listをndarrayに変換: {type(array1)}\")\n",
    "\n",
    "list2 = array1.tolist()\n",
    "print(f\"ndarrayをlistに変換: {type(list2)}\")\n",
    "\n"
   ]
  },
  {
   "cell_type": "code",
   "execution_count": 183,
   "metadata": {},
   "outputs": [
    {
     "name": "stdout",
     "output_type": "stream",
     "text": [
      "[[ 1  2  3  4]\n",
      " [ 5  6  7  8]\n",
      " [ 9 10 11 12]]\n",
      "[0,0]: 1\n",
      "[2,3]: 12\n",
      "[[ 7  8]\n",
      " [11 12]]\n",
      "array2: [100   1   2   3   4   5   6   7   8   9  10  11  12]\n",
      "[100   1   2 200   3   4   5   6   7   8   9  10  11  12]\n",
      "array3: [10 10 10 10  1  2  3  4  5  6  7  8  9 10 11 12]\n",
      "array5: [[ 1  2  3  4]\n",
      " [ 5  6  7  8]\n",
      " [11 11 11 11]\n",
      " [ 9 10 11 12]]\n",
      "array6: [[ 1  2  3  4]\n",
      " [ 5  6  7  8]\n",
      " [ 9 10 11 12]\n",
      " [22 22 22 22]]\n"
     ]
    }
   ],
   "source": [
    "# 元データ(多次元配列)の生成\n",
    "sourcedata = np.arange(1, 13).reshape(3, 4)\n",
    "\n",
    "# スライスを使用した表示\n",
    "print(sourcedata)\n",
    "print(f\"[0,0]: {sourcedata[0,0]}\") \n",
    "print(f\"[2,3]: {sourcedata[2,3]}\")\n",
    "print(sourcedata[1:3, 2:4])\n",
    "\n",
    "# 要素の追加 (1次元配列の場合)\n",
    "array1 = np.arange(1, 13)\n",
    "array2 = np.append([100], array1)\n",
    "print(f\"array2: {array2}\")\n",
    "\n",
    "# 位置を指定しての要素の追加\n",
    "array4 = np.insert(array2, 3, [200])\n",
    "print(array4)\n",
    "\n",
    "# 多次元配列に np.append() を使うと、一次元の配列に変換される。\n",
    "array3 = np.append([10, 10, 10, 10], sourcedata)\n",
    "print(f\"array3: {array3}\")\n",
    "\n",
    "# 多次元配列に要素追加する場合には insert を使う\n",
    "# nsert(処理対象の配列, 挿入位置, 挿入するデータ, 0|1)\n",
    "# 0は縦に挿入、1は横に挿入\n",
    "array5 = np.insert(sourcedata, 2, [11, 11, 11, 11], 0)\n",
    "print(f\"array5: {array5}\")\n",
    "\n",
    "# 多次元配列の末尾に値を追加する場合\n",
    "a, b = sourcedata.shape\n",
    "array6 = np.insert(sourcedata, a, [22, 22, 22, 22], 0)\n",
    "print(f\"array6: {array6}\")\n"
   ]
  },
  {
   "cell_type": "code",
   "execution_count": 195,
   "metadata": {},
   "outputs": [
    {
     "name": "stdout",
     "output_type": "stream",
     "text": [
      "元の配列: [[ 1  2  3  4]\n",
      " [ 5  6  7  8]\n",
      " [ 9 10 11 12]]\n",
      "2行目を削除: [[ 1  2  3  4]\n",
      " [ 9 10 11 12]]\n",
      "3列目を削除: [[ 1  2  4]\n",
      " [ 5  6  8]\n",
      " [ 9 10 12]]\n"
     ]
    }
   ],
   "source": [
    "import numpy as np\n",
    "\n",
    "# 元データ(多次元配列)の生成\n",
    "data = np.arange(1, 13).reshape(3, 4)\n",
    "print(f\"元の配列: {data}\")\n",
    "\n",
    "# 要素の削除: 行を削除\n",
    "# delete(対象データ, 削除対象, 0|1): 0 だと行を削除\n",
    "array1 = np.delete(data, 1, 0)\n",
    "print(f\"2行目を削除: {array1}\")\n",
    "\n",
    "# 要素の削除: 行を削除\n",
    "# delete(対象データ, 削除対象, 0|1): 1 だと列を削除\n",
    "array1 = np.delete(data, 2, 1)\n",
    "print(f\"3列目を削除: {array1}\")\n"
   ]
  },
  {
   "cell_type": "code",
   "execution_count": 206,
   "metadata": {},
   "outputs": [
    {
     "name": "stdout",
     "output_type": "stream",
     "text": [
      "[ 1  2  3  4  5  6  7  8  9 10 11 12]\n",
      "[ 10  20  30  40  50  60  70  80  90 100 110 120]\n",
      "d1: [[ 1  2  3  4]\n",
      " [ 5  6  7  8]\n",
      " [ 9 10 11 12]]\n",
      "d2: [[1 2 3 4]]\n",
      "d1*d2: [[ 1  4  9 16]\n",
      " [ 5 12 21 32]\n",
      " [ 9 20 33 48]]\n"
     ]
    }
   ],
   "source": [
    "import numpy as np\n",
    "\n",
    "# サンプルデータ生成\n",
    "data = np.arange(1, 13)\n",
    "print(data)\n",
    "\n",
    "# 配列に対する計算: 各要素に対して 10を掛ける\n",
    "print(data * 10)\n",
    "\n",
    "\n",
    "# サンプルデータ生成\n",
    "d1 = np.arange(1, 13).reshape(3, 4)\n",
    "d2 = np.arange(1, 5).reshape(1, 4)\n",
    "print(f\"d1: {d1}\")\n",
    "print(f\"d2: {d2}\")\n",
    "# d1 と d2 を各列ごとに計算する\n",
    "print(f\"d1*d2: {d1*d2}\")\n"
   ]
  },
  {
   "cell_type": "code",
   "execution_count": 286,
   "metadata": {},
   "outputs": [
    {
     "name": "stdout",
     "output_type": "stream",
     "text": [
      "[4.37705976 1.65707558 1.73966615 3.4795927  3.57352202]\n",
      "切り捨て: [4 1 1 3 3]\n",
      "切り上げ: [5 2 2 4 4]\n",
      "四捨五入: [4 2 2 3 4]\n"
     ]
    }
   ],
   "source": [
    "\"\"\"\n",
    "ユニバーサル関数\n",
    "\"\"\"\n",
    "import numpy as np\n",
    "\n",
    "# 計算対象のデータの生成: 1-5 の整数\n",
    "data = np.random.rand(5) * 5 + 1\n",
    "print(data)\n",
    "\n",
    "# np.floor(): 切り捨て: 1-5 の値をとる。\n",
    "data1 = np.array(np.floor(data), dtype=np.int16)\n",
    "print(f\"切り捨て: {data1}\")\n",
    "\n",
    "# np.ceil(): 切り上げ: 1-6 の値をとる。\n",
    "data2 = np.array(np.ceil(data), dtype=np.int16)\n",
    "print(f\"切り上げ: {data2}\")\n",
    "\n",
    "# np.round(): 四捨五入: 1-6 の値をとる。\n",
    "data3 = np.array(np.round(data), dtype=np.int16)\n",
    "print(f\"四捨五入: {data3}\")\n"
   ]
  },
  {
   "cell_type": "code",
   "execution_count": 296,
   "metadata": {},
   "outputs": [
    {
     "name": "stdout",
     "output_type": "stream",
     "text": [
      "[[1 2 3]\n",
      " [4 5 6]\n",
      " [7 8 9]]\n",
      "fliplr: 左右反転:\n",
      "[[3 2 1]\n",
      " [6 5 4]\n",
      " [9 8 7]]\n",
      "fliplr: 上下反転:\n",
      "[[7 8 9]\n",
      " [4 5 6]\n",
      " [1 2 3]]\n",
      "rot90(d, 1): 反時計回り 90度回転:\n",
      "[[3 6 9]\n",
      " [2 5 8]\n",
      " [1 4 7]]\n"
     ]
    }
   ],
   "source": [
    "import numpy as np\n",
    "\n",
    "# 元データ\n",
    "d = np.arange(1, 10).reshape(3, 3)\n",
    "print(d)\n",
    "\n",
    "# 左右を反転する\n",
    "d1 = np.fliplr(d)\n",
    "print(f\"fliplr: 左右反転:\\n{d1}\")\n",
    "\n",
    "# 上下を反転する\n",
    "d1 = np.flipud(d)\n",
    "print(f\"fliplr: 上下反転:\\n{d1}\")\n",
    "\n",
    "# 反時計回りに90度回転する\n",
    "# 第2引数: 1:90度, 2:180度, 3:270度\n",
    "d1 = np.rot90(d, 1)\n",
    "print(f\"rot90(d, 1): 反時計回り 90度回転:\\n{d1}\")\n",
    "\n"
   ]
  },
  {
   "cell_type": "code",
   "execution_count": null,
   "metadata": {},
   "outputs": [],
   "source": []
  }
 ],
 "metadata": {
  "kernelspec": {
   "display_name": "Python 3",
   "language": "python",
   "name": "python3"
  },
  "language_info": {
   "codemirror_mode": {
    "name": "ipython",
    "version": 3
   },
   "file_extension": ".py",
   "mimetype": "text/x-python",
   "name": "python",
   "nbconvert_exporter": "python",
   "pygments_lexer": "ipython3",
   "version": "3.7.4"
  }
 },
 "nbformat": 4,
 "nbformat_minor": 4
}
