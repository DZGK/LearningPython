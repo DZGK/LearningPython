{
 "cells": [
  {
   "cell_type": "code",
   "execution_count": 2,
   "metadata": {},
   "outputs": [
    {
     "data": {
      "text/plain": [
       "13.799999999999999"
      ]
     },
     "execution_count": 2,
     "metadata": {},
     "output_type": "execute_result"
    }
   ],
   "source": [
    "3 * 4.6"
   ]
  },
  {
   "cell_type": "code",
   "execution_count": 4,
   "metadata": {},
   "outputs": [
    {
     "data": {
      "text/plain": [
       "0.30000000000000004"
      ]
     },
     "execution_count": 4,
     "metadata": {},
     "output_type": "execute_result"
    }
   ],
   "source": [
    "0.1 + 0.1 + 0.1"
   ]
  },
  {
   "cell_type": "code",
   "execution_count": 9,
   "metadata": {},
   "outputs": [
    {
     "name": "stdout",
     "output_type": "stream",
     "text": [
      "東京 から 大阪 まで新幹線で行きます\n"
     ]
    }
   ],
   "source": [
    "s = \"東京\"\n",
    "e = \"大阪\"\n",
    "\n",
    "print(f\"{s} から {e} まで新幹線で行きます\")"
   ]
  },
  {
   "cell_type": "code",
   "execution_count": 12,
   "metadata": {},
   "outputs": [
    {
     "name": "stdout",
     "output_type": "stream",
     "text": [
      "abcde\n"
     ]
    }
   ],
   "source": [
    "#    0123456789\n",
    "a = \"abcdefghijklmnopqrstuvwxyz\"\n",
    "print(a[0:5])"
   ]
  },
  {
   "cell_type": "code",
   "execution_count": 20,
   "metadata": {},
   "outputs": [
    {
     "name": "stdout",
     "output_type": "stream",
     "text": [
      "ace\n"
     ]
    }
   ],
   "source": [
    "#    0123456789\n",
    "a = \"abcdefghijklmnopqrstuvwxyz\"\n",
    "print(a[0:5:2])"
   ]
  },
  {
   "cell_type": "code",
   "execution_count": 32,
   "metadata": {},
   "outputs": [
    {
     "name": "stdout",
     "output_type": "stream",
     "text": [
      "['いろはにほへと', 'わかよたれそ', 'つねならむ']\n",
      "['いろはにほへと', 'ちりぬるを', 'わかよたれそ', 'つねならむ']\n",
      "iroha = []\n",
      "a = None\n"
     ]
    }
   ],
   "source": [
    "iroha = []\n",
    "iroha.append(\"いろはにほへと\")\n",
    "iroha.append(\"わかよたれそ\")\n",
    "iroha.append(\"つねならむ\")\n",
    "print(iroha)\n",
    "# リストの特定の位置に要素を追加\n",
    "iroha.insert(1, \"ちりぬるを\")\n",
    "print(iroha)\n",
    "\n",
    "# リストの要素を全て削除\n",
    "a = iroha.clear()\n",
    "print(f\"iroha = {iroha}\")\n",
    "print(f\"a = {a}\")\n"
   ]
  },
  {
   "cell_type": "code",
   "execution_count": 33,
   "metadata": {},
   "outputs": [
    {
     "data": {
      "text/plain": [
       "[[1, 3, 5, 9], [2, 4, 6, 8]]"
      ]
     },
     "execution_count": 33,
     "metadata": {},
     "output_type": "execute_result"
    }
   ],
   "source": [
    "list2 = [[1, 3, 5, 9], [2, 4, 6, 8]]\n",
    "list2"
   ]
  },
  {
   "cell_type": "code",
   "execution_count": 39,
   "metadata": {},
   "outputs": [
    {
     "name": "stdout",
     "output_type": "stream",
     "text": [
      "[(1, 2, 7, 10), (3, 4, 8, 11), (5, 6, 9, 12)]\n",
      "(1, 2, 7, 10)\n"
     ]
    }
   ],
   "source": [
    "a0 = [ 1,  3,  5]\n",
    "a1 = [ 2,  4,  6]\n",
    "a2 = [ 7,  8,  9]\n",
    "a3 = [10, 11, 12]\n",
    "\n",
    "# zip() を用いてまとめられたデータは、タプルになる。\n",
    "temp_a = zip(a0, a1, a2, a3)\n",
    "a = list(temp_a)\n",
    "print(a)\n",
    "print(a[0])"
   ]
  },
  {
   "cell_type": "code",
   "execution_count": 44,
   "metadata": {},
   "outputs": [
    {
     "name": "stdout",
     "output_type": "stream",
     "text": [
      "<class 'set'>\n",
      "{'船', '車', '飛行機'}\n",
      "<class 'set'>\n",
      "{'列車', '船', '車', '飛行機'}\n"
     ]
    }
   ],
   "source": [
    "# set\n",
    "set_a = {\"車\", \"飛行機\", \"船\"}\n",
    "print(type(set_a))\n",
    "print(set_a)\n",
    "\n",
    "set_a.add(\"列車\")\n",
    "print(type(set_a))\n",
    "print(set_a)\n",
    "\n"
   ]
  },
  {
   "cell_type": "code",
   "execution_count": 112,
   "metadata": {},
   "outputs": [
    {
     "name": "stdout",
     "output_type": "stream",
     "text": [
      "パー\n",
      "['パー', 'パー', 'グー', 'グー', 'パー']\n",
      "['パー', 'チョキ', 'グー']\n",
      "None\n",
      "['パー', 'グー', 'チョキ']\n"
     ]
    }
   ],
   "source": [
    "import random\n",
    "\n",
    "list_j = [\"グー\", \"チョキ\", \"パー\"]\n",
    "\n",
    "# ランダムに1つ取り出す\n",
    "print(random.choice(list_j))\n",
    "\n",
    "# 重複ありで 5つ取り出す\n",
    "print(random.choices(list_j, k = 5))\n",
    "# 重複なしでランダムに取り出す\n",
    "print(random.sample(list_j, 3))\n",
    "\n",
    "# shuffle はシーケンス自体の並びを替えてしまうことに注意\n",
    "print(random.shuffle(list_j))\n",
    "print(list_j)\n"
   ]
  },
  {
   "cell_type": "code",
   "execution_count": 1,
   "metadata": {},
   "outputs": [
    {
     "name": "stdout",
     "output_type": "stream",
     "text": [
      "('パー', '紙')\n",
      "[('グー', '石'), ('チョキ', 'はさみ'), ('チョキ', 'はさみ'), ('パー', '紙'), ('チョキ', 'はさみ')]\n",
      "[('グー', '石'), ('チョキ', 'はさみ'), ('パー', '紙')]\n"
     ]
    }
   ],
   "source": [
    "import random\n",
    "\n",
    "dic_j = {\"グー\": \"石\", \"チョキ\": \"はさみ\", \"パー\": \"紙\"}\n",
    "\n",
    "# ランダムに1つ取り出す。dictionary の場合には list に変換する。\n",
    "# 出力はタプルになる\n",
    "print(random.choice(list(dic_j.items())))\n",
    "\n",
    "# 重複ありで 5つ取り出す\n",
    "print(random.choices(list(dic_j.items()), k = 5))\n",
    "\n",
    "# 重複なしでランダムに取り出す\n",
    "print(random.sample(list(dic_j.items()), 3))\n",
    "\n",
    "# これは動かない\n",
    "#print(random.shuffle(list(dic_j.items()))\n",
    "#print(dic_j.items())"
   ]
  },
  {
   "cell_type": "code",
   "execution_count": 172,
   "metadata": {},
   "outputs": [
    {
     "name": "stdout",
     "output_type": "stream",
     "text": [
      "2020-05-27 16:03:40.893468+09:00\n",
      "2020-06-24 16:03:40.893468+09:00\n"
     ]
    }
   ],
   "source": [
    "from datetime import datetime, timedelta, timezone\n",
    "\n",
    "\n",
    "jst = timezone(timedelta(hours=+9), \"JST\")\n",
    "now_datentime = datetime.now(jst)\n",
    "print(now_datentime)\n",
    "\n",
    "print(now_datentime + timedelta(weeks=4))"
   ]
  },
  {
   "cell_type": "code",
   "execution_count": 5,
   "metadata": {},
   "outputs": [],
   "source": [
    "%%capture\n",
    "import sys\n",
    "print(sys.getdefaultencoding())\n",
    "\n",
    "# ファイルを開く: UTF-8 のファイルを開く場合、encoding で UTF-8 を指定する。\n",
    "# そうでないと、print文で UnicodeDecodeError: 'cp932' codec can't decode byte 0x91 in position 24: illegal multibyte sequence が表示される。\n",
    "with open(\"data\\\\j.txt\", \"rt\", encoding=\"utf-8\") as file:\n",
    "# 全件を表示\n",
    "    print(file.read())\n",
    "\n",
    "file.close()"
   ]
  },
  {
   "cell_type": "code",
   "execution_count": 6,
   "metadata": {},
   "outputs": [],
   "source": [
    "%%capture\n",
    "# ファイルの中身をリストとして取得する\n",
    "with open(\"data\\\\j.txt\", mode=\"rt\", encoding=\"utf-8\") as file:\n",
    "    # readlines() で読み込む\n",
    "    lines = file.readlines()\n",
    "# linesにはリスト形式でファイルの中身が格納される。\n",
    "print(lines)\n",
    "file.close()"
   ]
  },
  {
   "cell_type": "code",
   "execution_count": 7,
   "metadata": {},
   "outputs": [],
   "source": [
    "%%capture\n",
    "# ファイルの中身を一行ずつ読み込み処理をする\n",
    "with open(\"data\\\\j.txt\", mode=\"rt\", encoding=\"utf-8\") as file:\n",
    "    # readline() で読み込む\n",
    "    while True:\n",
    "        line = file.readline()\n",
    "        print(line.rstrip())\n",
    "        if not line:\n",
    "            break\n",
    "file.close()"
   ]
  },
  {
   "cell_type": "code",
   "execution_count": 8,
   "metadata": {},
   "outputs": [],
   "source": [
    "%%capture\n",
    "# CSVファイルを扱う\n",
    "import csv\n",
    "with open(\"data\\\\j.txt\", mode=\"rt\", encoding=\"utf-8\") as file:\n",
    "    # CSVファイルを読み込み csv.readerオブジェクトを生成\n",
    "    csvreader = csv.reader(file)\n",
    "    print(csvreader)\n",
    "    for line in csvreader:\n",
    "        if line[0] == \"東京都\":\n",
    "            print(line)\n",
    "        \n",
    "file.close()"
   ]
  },
  {
   "cell_type": "code",
   "execution_count": 54,
   "metadata": {},
   "outputs": [
    {
     "name": "stdout",
     "output_type": "stream",
     "text": [
      "#1 ﻿.ipynb_checkpoints\n",
      "jinko_txt\n",
      "jinko.txt\n",
      "jinko_sjis.txt\n",
      "jinko_txt.zip\n",
      "jupyterlab.ipynb\n",
      "magic_writefile_sample.txt\n",
      "python.ipynb\n",
      "sample_output.txt\n",
      "Tellus environment.ipynb\n",
      "test\n",
      "\n",
      "#2\n",
      "\n",
      "#3\n",
      "﻿.ipynb_checkpoints\n",
      "jinko_txt\n",
      "jinko.txt\n",
      "jinko_sjis.txt\n",
      "jinko_txt.zip\n",
      "jupyterlab.ipynb\n",
      "magic_writefile_sample.txt\n",
      "python.ipynb\n",
      "sample_output.txt\n",
      "Tellus environment.ipynb\n",
      "test\n",
      "add line1\n",
      "\n"
     ]
    }
   ],
   "source": [
    "import time\n",
    "\n",
    "with open(\"sample_output.txt\", \"r+\", encoding=\"utf-8\") as file:\n",
    "    # mode=\"w\" の時、file.read() が動作しない。読み書き両方できるようにするためには、\"r+\" とする。\n",
    "    print(\"#1 \" + file.read())\n",
    "    file.write(\"add line1\\n\")\n",
    " \n",
    "    # 以下の行ではファイルの内容が表示されない。\n",
    "    print(\"#2\")\n",
    "    print(file.read())    \n",
    "    file.close()\n",
    "\n",
    "# fileがクローズされた後であれば変更内容が表示される\n",
    "with open(\"sample_output.txt\", \"r\", encoding=\"utf-8\") as f:\n",
    "    print(\"#3\")\n",
    "    print(f.read())    \n",
    "    "
   ]
  },
  {
   "cell_type": "code",
   "execution_count": 65,
   "metadata": {},
   "outputs": [
    {
     "name": "stdout",
     "output_type": "stream",
     "text": [
      "#1\n",
      "﻿.ipynb_checkpoints\n",
      "jinko_txt\n",
      "dir.txt\n",
      "jinko.txt\n",
      "\n",
      "#2\n",
      "add line1\n",
      "\n"
     ]
    }
   ],
   "source": [
    "\n",
    "sampledata = \"sample_output2.txt\"\n",
    "sourcedata = \"data\\\\dir.txt\"\n",
    "\n",
    "# 初期データの生成\n",
    "with open(sampledata, \"w+\", encoding=\"utf-8\") as file:\n",
    "    with open(sourcedata, \"r\", encoding=\"utf-8\") as f:\n",
    "        # read()は指定された長さだけ読み込む。read(5) だと 5文字読み込む\n",
    "        # l = f.read(5)\n",
    "        \n",
    "        lines = f.readlines()\n",
    "        i = 0\n",
    "        for line in lines:\n",
    "            file.write(line)\n",
    "            if i == 3:\n",
    "                break\n",
    "            i+=1\n",
    "        f.close()\n",
    "    file.close()\n",
    "\n",
    "# 書き込み前のデータの表示\n",
    "with open(sampledata, \"r\", encoding=\"utf-8\") as f:\n",
    "    print(\"#1\")\n",
    "    print(f.read())    \n",
    "\n",
    "# mode=\"w\" での書き込み\n",
    "with open(sampledata, \"w\", encoding=\"utf-8\") as file:\n",
    "    # mode=\"w\" の時、file.read() が動作しない。読み書き両方できるようにするためには、\"r+\" とする。\n",
    "    #print(\"#1 \" + file.read())\n",
    "    # mode=\"w\"の場合、ファイルが削除された後に書き込みが行われる。従って、ファイルに記載された内容が消去される。\n",
    "    file.write(\"add line1\\n\")\n",
    " \n",
    "    file.close()\n",
    "\n",
    "# 書き込み後のファイルの内容を表示: \"w\" で書き込むとそれ以前の情報が消えていることが分かる。\n",
    "with open(sampledata, \"r\", encoding=\"utf-8\") as f:\n",
    "    print(\"#2\")\n",
    "    print(f.read())    \n",
    "    "
   ]
  },
  {
   "cell_type": "code",
   "execution_count": 68,
   "metadata": {},
   "outputs": [
    {
     "name": "stdout",
     "output_type": "stream",
     "text": [
      "#1\n",
      "﻿.ipynb_checkpoints\n",
      "jinko_txt\n",
      "dir.txt\n",
      "jinko.txt\n",
      "\n",
      "#2\n",
      "﻿.ipynb_checkpoints\n",
      "jinko_txt\n",
      "dir.txt\n",
      "jinko.txt\n",
      "add line1\n",
      "\n"
     ]
    }
   ],
   "source": [
    "sampledata = \"sample_output3.txt\"\n",
    "sourcedata = \"data\\\\dir.txt\"\n",
    "\n",
    "# 初期データの生成\n",
    "with open(sampledata, \"w+\", encoding=\"utf-8\") as file:\n",
    "    with open(sourcedata, \"r\", encoding=\"utf-8\") as f:\n",
    "        # read()は指定された長さだけ読み込む。read(5) だと 5文字読み込む\n",
    "        # l = f.read(5)\n",
    "        \n",
    "        lines = f.readlines()\n",
    "        i = 0\n",
    "        for line in lines:\n",
    "            file.write(line)\n",
    "            if i == 3:\n",
    "                break\n",
    "            i+=1\n",
    "        f.close()\n",
    "    file.close()\n",
    "\n",
    "# 書き込み前のデータの表示\n",
    "with open(sampledata, \"r\", encoding=\"utf-8\") as f:\n",
    "    print(\"#1\")\n",
    "    print(f.read())    \n",
    "\n",
    "# mode=\"w\" での書き込み\n",
    "with open(sampledata, \"a\", encoding=\"utf-8\") as file:\n",
    "    # mode=\"a\" の時、file.read() が動作しない。読み書き両方できるようにするためには、\"r+\"や \"a+\" とする。\n",
    "    # print(\"#1 \" + file.read())\n",
    "    # mode=\"w\"の場合、ファイルが削除された後に書き込みが行われる。従って、ファイルに記載された内容が消去される。\n",
    "    file.write(\"add line1\\n\")\n",
    " \n",
    "    file.close()\n",
    "\n",
    "# 書き込み後のファイルの内容を表示: \"a\" だと追記されることが分かる。\n",
    "with open(sampledata, \"r\", encoding=\"utf-8\") as f:\n",
    "    print(\"#2\")\n",
    "    print(f.read())    \n"
   ]
  },
  {
   "cell_type": "code",
   "execution_count": 97,
   "metadata": {},
   "outputs": [
    {
     "name": "stdout",
     "output_type": "stream",
     "text": [
      "# 1\n",
      "い,ろ,は\n",
      "A,B,C\n",
      "a,b,c\n",
      "\n"
     ]
    }
   ],
   "source": [
    "import csv\n",
    "\n",
    "sampledata = [\n",
    "    [\"い\", \"ろ\", \"は\"],\n",
    "    [\"A\", \"B\", \"C\"],\n",
    "    [\"a\", \"b\", \"c\"]\n",
    "             ]\n",
    "\n",
    "# newline=\"\" を指定してファイルを開く。そうすることで、csv.writerow() 実行時に改行が含まれるのを回避できる。\n",
    "with open(\"data\\\\sample_csv1.txt\", \"w+\", newline=\"\") as csvfile:\n",
    "# with open(\"sample_csv1.txt\", \"w+\") as csvfile:\n",
    "    csv_writer = csv.writer(csvfile)\n",
    "    for line in sampledata:\n",
    "        csv_writer.writerow(line)\n",
    "        \n",
    "with open(\"data\\\\sample_csv1.txt\", \"r+\") as file:\n",
    "    print(\"# 1\\n\" + file.read())"
   ]
  },
  {
   "cell_type": "code",
   "execution_count": 95,
   "metadata": {},
   "outputs": [
    {
     "name": "stdout",
     "output_type": "stream",
     "text": [
      "# 1\n",
      "い,ろ,は\n",
      "\n",
      "A,B,C\n",
      "\n",
      "a,b,c\n",
      "\n",
      "\n"
     ]
    }
   ],
   "source": [
    "import csv\n",
    "\n",
    "sampledata = [\n",
    "    [\"い\", \"ろ\", \"は\"],\n",
    "    [\"A\", \"B\", \"C\"],\n",
    "    [\"a\", \"b\", \"c\"]\n",
    "             ]\n",
    "\n",
    "\n",
    "# newline=\"\" の指定に関わらず、csv.writerows() の場合には改行入ってしまう。\n",
    "with open(\"data\\\\sample_csv1.txt\", \"w+\", newline=\"\") as csvfile:\n",
    "#with open(\"sample_csv2.txt\", \"w+\") as csvfile:\n",
    "    csv_writer = csv.writer(csvfile, lineterminator=\"\\n\")\n",
    "    csv_writer.writerows(sampledata)\n",
    "        \n",
    "with open(\"data\\\\sample_csv2.txt\", \"r+\") as file:\n",
    "    print(\"# 1\\n\" + file.read())"
   ]
  },
  {
   "cell_type": "code",
   "execution_count": null,
   "metadata": {},
   "outputs": [],
   "source": []
  }
 ],
 "metadata": {
  "kernelspec": {
   "display_name": "Python 3",
   "language": "python",
   "name": "python3"
  },
  "language_info": {
   "codemirror_mode": {
    "name": "ipython",
    "version": 3
   },
   "file_extension": ".py",
   "mimetype": "text/x-python",
   "name": "python",
   "nbconvert_exporter": "python",
   "pygments_lexer": "ipython3",
   "version": "3.7.4"
  }
 },
 "nbformat": 4,
 "nbformat_minor": 4
}
